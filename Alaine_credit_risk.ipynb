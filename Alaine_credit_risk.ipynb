{
  "nbformat": 4,
  "nbformat_minor": 0,
  "metadata": {
    "colab": {
      "name": "Alaine_credit_risk.ipynb",
      "provenance": [],
      "collapsed_sections": [],
      "authorship_tag": "ABX9TyPYdbiEFX8c6/4EADSol9/m",
      "include_colab_link": true
    },
    "kernelspec": {
      "name": "python3",
      "display_name": "Python 3"
    },
    "language_info": {
      "name": "python"
    }
  },
  "cells": [
    {
      "cell_type": "markdown",
      "metadata": {
        "id": "view-in-github",
        "colab_type": "text"
      },
      "source": [
        "<a href=\"https://colab.research.google.com/github/alainegomes/trade_credit_risk/blob/main/Alaine_credit_risk.ipynb\" target=\"_parent\"><img src=\"https://colab.research.google.com/assets/colab-badge.svg\" alt=\"Open In Colab\"/></a>"
      ]
    },
    {
      "cell_type": "markdown",
      "metadata": {
        "id": "pZQNq8_lXGnv"
      },
      "source": [
        "# Importação e limpeza"
      ]
    },
    {
      "cell_type": "code",
      "metadata": {
        "id": "teFeg8L_XDLa"
      },
      "source": [
        "##imports\n",
        "import pandas as pd\n",
        "import numpy as np\n",
        "import matplotlib.pyplot as plt\n",
        "import seaborn as sns"
      ],
      "execution_count": 122,
      "outputs": []
    },
    {
      "cell_type": "markdown",
      "metadata": {
        "id": "zaVj_PKMNRfE"
      },
      "source": [
        "Utilizei o comando do pandas `read_csv` para importar os dados, utilizei o paramentro `sep` para definir o separador do arquivo como ';', pois o padrão da função é o separador como ','."
      ]
    },
    {
      "cell_type": "code",
      "metadata": {
        "id": "zSFqUSn_XaVj",
        "colab": {
          "base_uri": "https://localhost:8080/"
        },
        "outputId": "1a40014c-01ec-4ca6-d5ea-7eb24d8683cf"
      },
      "source": [
        "dados = pd.read_csv('/content/credit_risk_dataset.csv', sep= ';')\n",
        "dados.info()"
      ],
      "execution_count": 123,
      "outputs": [
        {
          "output_type": "stream",
          "name": "stdout",
          "text": [
            "<class 'pandas.core.frame.DataFrame'>\n",
            "RangeIndex: 1200 entries, 0 to 1199\n",
            "Data columns (total 23 columns):\n",
            " #   Column                   Non-Null Count  Dtype  \n",
            "---  ------                   --------------  -----  \n",
            " 0   account_status           1200 non-null   int64  \n",
            " 1   credit_duration          1200 non-null   int64  \n",
            " 2   history_of_compliance    1200 non-null   int64  \n",
            " 3   credit_purpose           1200 non-null   int64  \n",
            " 4   credit_amount            1200 non-null   int64  \n",
            " 5   savings                  1200 non-null   int64  \n",
            " 6   employment_duration      1200 non-null   int64  \n",
            " 7   installment_rate         1200 non-null   int64  \n",
            " 8   personal_status_sex      1200 non-null   int64  \n",
            " 9   other_debtors            1200 non-null   int64  \n",
            " 10  present_residence        1200 non-null   int64  \n",
            " 11  property                 1200 non-null   int64  \n",
            " 12  age                      1200 non-null   int64  \n",
            " 13  other_installment_plans  1200 non-null   int64  \n",
            " 14  type_of_housing          1200 non-null   int64  \n",
            " 15  number_credits           1200 non-null   int64  \n",
            " 16  job                      1200 non-null   int64  \n",
            " 17  people_liable            1200 non-null   int64  \n",
            " 18  telephone                442 non-null    float64\n",
            " 19  foreign_worker           1200 non-null   object \n",
            " 20  level_of_education       1200 non-null   int64  \n",
            " 21  entry_payment            1200 non-null   float64\n",
            " 22  credit_risk              1200 non-null   int64  \n",
            "dtypes: float64(2), int64(20), object(1)\n",
            "memory usage: 215.8+ KB\n"
          ]
        }
      ]
    },
    {
      "cell_type": "code",
      "metadata": {
        "colab": {
          "base_uri": "https://localhost:8080/",
          "height": 731
        },
        "id": "juvM8CL4aGwL",
        "outputId": "f5035216-8ac3-4112-b949-7f1b56a95cf8"
      },
      "source": [
        "dados.describe().transpose().round(2)"
      ],
      "execution_count": 124,
      "outputs": [
        {
          "output_type": "execute_result",
          "data": {
            "text/html": [
              "<div>\n",
              "<style scoped>\n",
              "    .dataframe tbody tr th:only-of-type {\n",
              "        vertical-align: middle;\n",
              "    }\n",
              "\n",
              "    .dataframe tbody tr th {\n",
              "        vertical-align: top;\n",
              "    }\n",
              "\n",
              "    .dataframe thead th {\n",
              "        text-align: right;\n",
              "    }\n",
              "</style>\n",
              "<table border=\"1\" class=\"dataframe\">\n",
              "  <thead>\n",
              "    <tr style=\"text-align: right;\">\n",
              "      <th></th>\n",
              "      <th>count</th>\n",
              "      <th>mean</th>\n",
              "      <th>std</th>\n",
              "      <th>min</th>\n",
              "      <th>25%</th>\n",
              "      <th>50%</th>\n",
              "      <th>75%</th>\n",
              "      <th>max</th>\n",
              "    </tr>\n",
              "  </thead>\n",
              "  <tbody>\n",
              "    <tr>\n",
              "      <th>account_status</th>\n",
              "      <td>1200.0</td>\n",
              "      <td>2.52</td>\n",
              "      <td>1.23</td>\n",
              "      <td>1.0</td>\n",
              "      <td>1.00</td>\n",
              "      <td>2.00</td>\n",
              "      <td>4.00</td>\n",
              "      <td>4.00</td>\n",
              "    </tr>\n",
              "    <tr>\n",
              "      <th>credit_duration</th>\n",
              "      <td>1200.0</td>\n",
              "      <td>20.64</td>\n",
              "      <td>11.69</td>\n",
              "      <td>4.0</td>\n",
              "      <td>12.00</td>\n",
              "      <td>18.00</td>\n",
              "      <td>24.00</td>\n",
              "      <td>72.00</td>\n",
              "    </tr>\n",
              "    <tr>\n",
              "      <th>history_of_compliance</th>\n",
              "      <td>1200.0</td>\n",
              "      <td>2.48</td>\n",
              "      <td>1.06</td>\n",
              "      <td>0.0</td>\n",
              "      <td>2.00</td>\n",
              "      <td>2.00</td>\n",
              "      <td>4.00</td>\n",
              "      <td>4.00</td>\n",
              "    </tr>\n",
              "    <tr>\n",
              "      <th>credit_purpose</th>\n",
              "      <td>1200.0</td>\n",
              "      <td>2.73</td>\n",
              "      <td>2.65</td>\n",
              "      <td>0.0</td>\n",
              "      <td>1.00</td>\n",
              "      <td>2.00</td>\n",
              "      <td>3.00</td>\n",
              "      <td>10.00</td>\n",
              "    </tr>\n",
              "    <tr>\n",
              "      <th>credit_amount</th>\n",
              "      <td>1200.0</td>\n",
              "      <td>3239.49</td>\n",
              "      <td>2793.03</td>\n",
              "      <td>250.0</td>\n",
              "      <td>1359.50</td>\n",
              "      <td>2300.00</td>\n",
              "      <td>3959.00</td>\n",
              "      <td>18424.00</td>\n",
              "    </tr>\n",
              "    <tr>\n",
              "      <th>savings</th>\n",
              "      <td>1200.0</td>\n",
              "      <td>2.06</td>\n",
              "      <td>1.53</td>\n",
              "      <td>1.0</td>\n",
              "      <td>1.00</td>\n",
              "      <td>1.00</td>\n",
              "      <td>3.00</td>\n",
              "      <td>5.00</td>\n",
              "    </tr>\n",
              "    <tr>\n",
              "      <th>employment_duration</th>\n",
              "      <td>1200.0</td>\n",
              "      <td>3.31</td>\n",
              "      <td>1.19</td>\n",
              "      <td>1.0</td>\n",
              "      <td>2.00</td>\n",
              "      <td>3.00</td>\n",
              "      <td>4.00</td>\n",
              "      <td>5.00</td>\n",
              "    </tr>\n",
              "    <tr>\n",
              "      <th>installment_rate</th>\n",
              "      <td>1200.0</td>\n",
              "      <td>2.91</td>\n",
              "      <td>1.12</td>\n",
              "      <td>1.0</td>\n",
              "      <td>2.00</td>\n",
              "      <td>3.00</td>\n",
              "      <td>4.00</td>\n",
              "      <td>4.00</td>\n",
              "    </tr>\n",
              "    <tr>\n",
              "      <th>personal_status_sex</th>\n",
              "      <td>1200.0</td>\n",
              "      <td>2.65</td>\n",
              "      <td>0.69</td>\n",
              "      <td>1.0</td>\n",
              "      <td>2.00</td>\n",
              "      <td>3.00</td>\n",
              "      <td>3.00</td>\n",
              "      <td>4.00</td>\n",
              "    </tr>\n",
              "    <tr>\n",
              "      <th>other_debtors</th>\n",
              "      <td>1200.0</td>\n",
              "      <td>1.13</td>\n",
              "      <td>0.45</td>\n",
              "      <td>1.0</td>\n",
              "      <td>1.00</td>\n",
              "      <td>1.00</td>\n",
              "      <td>1.00</td>\n",
              "      <td>3.00</td>\n",
              "    </tr>\n",
              "    <tr>\n",
              "      <th>present_residence</th>\n",
              "      <td>1200.0</td>\n",
              "      <td>2.80</td>\n",
              "      <td>1.08</td>\n",
              "      <td>1.0</td>\n",
              "      <td>2.00</td>\n",
              "      <td>3.00</td>\n",
              "      <td>4.00</td>\n",
              "      <td>4.00</td>\n",
              "    </tr>\n",
              "    <tr>\n",
              "      <th>property</th>\n",
              "      <td>1200.0</td>\n",
              "      <td>2.29</td>\n",
              "      <td>1.03</td>\n",
              "      <td>1.0</td>\n",
              "      <td>1.00</td>\n",
              "      <td>2.00</td>\n",
              "      <td>3.00</td>\n",
              "      <td>4.00</td>\n",
              "    </tr>\n",
              "    <tr>\n",
              "      <th>age</th>\n",
              "      <td>1200.0</td>\n",
              "      <td>35.30</td>\n",
              "      <td>10.94</td>\n",
              "      <td>19.0</td>\n",
              "      <td>27.00</td>\n",
              "      <td>33.00</td>\n",
              "      <td>41.00</td>\n",
              "      <td>75.00</td>\n",
              "    </tr>\n",
              "    <tr>\n",
              "      <th>other_installment_plans</th>\n",
              "      <td>1200.0</td>\n",
              "      <td>2.66</td>\n",
              "      <td>0.71</td>\n",
              "      <td>1.0</td>\n",
              "      <td>3.00</td>\n",
              "      <td>3.00</td>\n",
              "      <td>3.00</td>\n",
              "      <td>3.00</td>\n",
              "    </tr>\n",
              "    <tr>\n",
              "      <th>type_of_housing</th>\n",
              "      <td>1200.0</td>\n",
              "      <td>1.89</td>\n",
              "      <td>0.52</td>\n",
              "      <td>1.0</td>\n",
              "      <td>2.00</td>\n",
              "      <td>2.00</td>\n",
              "      <td>2.00</td>\n",
              "      <td>3.00</td>\n",
              "    </tr>\n",
              "    <tr>\n",
              "      <th>number_credits</th>\n",
              "      <td>1200.0</td>\n",
              "      <td>1.36</td>\n",
              "      <td>0.56</td>\n",
              "      <td>1.0</td>\n",
              "      <td>1.00</td>\n",
              "      <td>1.00</td>\n",
              "      <td>2.00</td>\n",
              "      <td>4.00</td>\n",
              "    </tr>\n",
              "    <tr>\n",
              "      <th>job</th>\n",
              "      <td>1200.0</td>\n",
              "      <td>2.86</td>\n",
              "      <td>0.65</td>\n",
              "      <td>1.0</td>\n",
              "      <td>3.00</td>\n",
              "      <td>3.00</td>\n",
              "      <td>3.00</td>\n",
              "      <td>4.00</td>\n",
              "    </tr>\n",
              "    <tr>\n",
              "      <th>people_liable</th>\n",
              "      <td>1200.0</td>\n",
              "      <td>1.82</td>\n",
              "      <td>0.38</td>\n",
              "      <td>1.0</td>\n",
              "      <td>2.00</td>\n",
              "      <td>2.00</td>\n",
              "      <td>2.00</td>\n",
              "      <td>2.00</td>\n",
              "    </tr>\n",
              "    <tr>\n",
              "      <th>telephone</th>\n",
              "      <td>442.0</td>\n",
              "      <td>32985195.55</td>\n",
              "      <td>577602.32</td>\n",
              "      <td>32101393.0</td>\n",
              "      <td>32478007.50</td>\n",
              "      <td>32928088.00</td>\n",
              "      <td>33473913.00</td>\n",
              "      <td>33993179.00</td>\n",
              "    </tr>\n",
              "    <tr>\n",
              "      <th>level_of_education</th>\n",
              "      <td>1200.0</td>\n",
              "      <td>2.47</td>\n",
              "      <td>1.11</td>\n",
              "      <td>1.0</td>\n",
              "      <td>1.00</td>\n",
              "      <td>2.00</td>\n",
              "      <td>3.00</td>\n",
              "      <td>4.00</td>\n",
              "    </tr>\n",
              "    <tr>\n",
              "      <th>entry_payment</th>\n",
              "      <td>1200.0</td>\n",
              "      <td>196.00</td>\n",
              "      <td>175.42</td>\n",
              "      <td>12.5</td>\n",
              "      <td>80.75</td>\n",
              "      <td>136.86</td>\n",
              "      <td>245.26</td>\n",
              "      <td>1289.68</td>\n",
              "    </tr>\n",
              "    <tr>\n",
              "      <th>credit_risk</th>\n",
              "      <td>1200.0</td>\n",
              "      <td>0.70</td>\n",
              "      <td>0.46</td>\n",
              "      <td>0.0</td>\n",
              "      <td>0.00</td>\n",
              "      <td>1.00</td>\n",
              "      <td>1.00</td>\n",
              "      <td>1.00</td>\n",
              "    </tr>\n",
              "  </tbody>\n",
              "</table>\n",
              "</div>"
            ],
            "text/plain": [
              "                          count         mean  ...          75%          max\n",
              "account_status           1200.0         2.52  ...         4.00         4.00\n",
              "credit_duration          1200.0        20.64  ...        24.00        72.00\n",
              "history_of_compliance    1200.0         2.48  ...         4.00         4.00\n",
              "credit_purpose           1200.0         2.73  ...         3.00        10.00\n",
              "credit_amount            1200.0      3239.49  ...      3959.00     18424.00\n",
              "savings                  1200.0         2.06  ...         3.00         5.00\n",
              "employment_duration      1200.0         3.31  ...         4.00         5.00\n",
              "installment_rate         1200.0         2.91  ...         4.00         4.00\n",
              "personal_status_sex      1200.0         2.65  ...         3.00         4.00\n",
              "other_debtors            1200.0         1.13  ...         1.00         3.00\n",
              "present_residence        1200.0         2.80  ...         4.00         4.00\n",
              "property                 1200.0         2.29  ...         3.00         4.00\n",
              "age                      1200.0        35.30  ...        41.00        75.00\n",
              "other_installment_plans  1200.0         2.66  ...         3.00         3.00\n",
              "type_of_housing          1200.0         1.89  ...         2.00         3.00\n",
              "number_credits           1200.0         1.36  ...         2.00         4.00\n",
              "job                      1200.0         2.86  ...         3.00         4.00\n",
              "people_liable            1200.0         1.82  ...         2.00         2.00\n",
              "telephone                 442.0  32985195.55  ...  33473913.00  33993179.00\n",
              "level_of_education       1200.0         2.47  ...         3.00         4.00\n",
              "entry_payment            1200.0       196.00  ...       245.26      1289.68\n",
              "credit_risk              1200.0         0.70  ...         1.00         1.00\n",
              "\n",
              "[22 rows x 8 columns]"
            ]
          },
          "metadata": {},
          "execution_count": 124
        }
      ]
    },
    {
      "cell_type": "code",
      "metadata": {
        "colab": {
          "base_uri": "https://localhost:8080/"
        },
        "id": "CwbyghafY-JT",
        "outputId": "9192293a-3515-4745-d7a0-11dd1603ef1f"
      },
      "source": [
        "#Verificando valores nulos\n",
        "dados.isnull().sum()\n"
      ],
      "execution_count": 125,
      "outputs": [
        {
          "output_type": "execute_result",
          "data": {
            "text/plain": [
              "account_status               0\n",
              "credit_duration              0\n",
              "history_of_compliance        0\n",
              "credit_purpose               0\n",
              "credit_amount                0\n",
              "savings                      0\n",
              "employment_duration          0\n",
              "installment_rate             0\n",
              "personal_status_sex          0\n",
              "other_debtors                0\n",
              "present_residence            0\n",
              "property                     0\n",
              "age                          0\n",
              "other_installment_plans      0\n",
              "type_of_housing              0\n",
              "number_credits               0\n",
              "job                          0\n",
              "people_liable                0\n",
              "telephone                  758\n",
              "foreign_worker               0\n",
              "level_of_education           0\n",
              "entry_payment                0\n",
              "credit_risk                  0\n",
              "dtype: int64"
            ]
          },
          "metadata": {},
          "execution_count": 125
        }
      ]
    },
    {
      "cell_type": "markdown",
      "metadata": {
        "id": "pLQmK8jFZZN0"
      },
      "source": [
        "A coluna telefone tem 758 de 1200 dados nulos, o que equivale a mais de 60% de dados faltantes. Por esse motivo, decidi excluir essa coluna do dataframe"
      ]
    },
    {
      "cell_type": "code",
      "metadata": {
        "id": "wQK36Ct4Z603"
      },
      "source": [
        "dados.drop('telephone', axis=1, inplace = True)"
      ],
      "execution_count": 126,
      "outputs": []
    },
    {
      "cell_type": "code",
      "metadata": {
        "colab": {
          "base_uri": "https://localhost:8080/"
        },
        "id": "PGnve49CaVWw",
        "outputId": "778efdd8-ff06-4de1-a96a-f29861c0d933"
      },
      "source": [
        "dados.shape"
      ],
      "execution_count": 127,
      "outputs": [
        {
          "output_type": "execute_result",
          "data": {
            "text/plain": [
              "(1200, 22)"
            ]
          },
          "metadata": {},
          "execution_count": 127
        }
      ]
    },
    {
      "cell_type": "code",
      "metadata": {
        "id": "1PFPO4g5cHon"
      },
      "source": [
        "#transformando o tipo de dados de foreing_worker em int64. \n",
        "#substituindo yes = 1 e no = 0\n",
        "dados['foreign_worker'].replace({'no': 0 , 'yes': 1}, inplace=True)"
      ],
      "execution_count": 128,
      "outputs": []
    },
    {
      "cell_type": "code",
      "metadata": {
        "colab": {
          "base_uri": "https://localhost:8080/"
        },
        "id": "1wmPtIUWcHx-",
        "outputId": "fd4344d3-fd5f-4e3e-9cfc-235b2897c31d"
      },
      "source": [
        "dados.info()"
      ],
      "execution_count": 129,
      "outputs": [
        {
          "output_type": "stream",
          "name": "stdout",
          "text": [
            "<class 'pandas.core.frame.DataFrame'>\n",
            "RangeIndex: 1200 entries, 0 to 1199\n",
            "Data columns (total 22 columns):\n",
            " #   Column                   Non-Null Count  Dtype  \n",
            "---  ------                   --------------  -----  \n",
            " 0   account_status           1200 non-null   int64  \n",
            " 1   credit_duration          1200 non-null   int64  \n",
            " 2   history_of_compliance    1200 non-null   int64  \n",
            " 3   credit_purpose           1200 non-null   int64  \n",
            " 4   credit_amount            1200 non-null   int64  \n",
            " 5   savings                  1200 non-null   int64  \n",
            " 6   employment_duration      1200 non-null   int64  \n",
            " 7   installment_rate         1200 non-null   int64  \n",
            " 8   personal_status_sex      1200 non-null   int64  \n",
            " 9   other_debtors            1200 non-null   int64  \n",
            " 10  present_residence        1200 non-null   int64  \n",
            " 11  property                 1200 non-null   int64  \n",
            " 12  age                      1200 non-null   int64  \n",
            " 13  other_installment_plans  1200 non-null   int64  \n",
            " 14  type_of_housing          1200 non-null   int64  \n",
            " 15  number_credits           1200 non-null   int64  \n",
            " 16  job                      1200 non-null   int64  \n",
            " 17  people_liable            1200 non-null   int64  \n",
            " 18  foreign_worker           1200 non-null   int64  \n",
            " 19  level_of_education       1200 non-null   int64  \n",
            " 20  entry_payment            1200 non-null   float64\n",
            " 21  credit_risk              1200 non-null   int64  \n",
            "dtypes: float64(1), int64(21)\n",
            "memory usage: 206.4 KB\n"
          ]
        }
      ]
    },
    {
      "cell_type": "markdown",
      "metadata": {
        "id": "N1zcrwv-Yogo"
      },
      "source": [
        "# Análise Exploratória"
      ]
    },
    {
      "cell_type": "markdown",
      "metadata": {
        "id": "0HnqnjI3atMU"
      },
      "source": [
        "Para melhorar a visualização dos dados, decidi apresentar as descrições de cada atributo. Porém, para a etapa de predição com machine learning utilizarei os valores númericos. Por isso, optei por clonar o dataframe, preservando o original\n",
        " "
      ]
    },
    {
      "cell_type": "code",
      "metadata": {
        "id": "SEIl5F9_ajdo"
      },
      "source": [
        "df = dados.copy()"
      ],
      "execution_count": 130,
      "outputs": []
    },
    {
      "cell_type": "code",
      "metadata": {
        "id": "lcanDmyLc9Ob"
      },
      "source": [
        "df['account_status'].replace({1:'no checking account' , \n",
        "                              2:'account < 0 DM',\n",
        "                              3:'0<= account < 200 DM ',\n",
        "                              4:'account >= 200 DM / salary for at least 1 year' }, inplace=True)"
      ],
      "execution_count": 131,
      "outputs": []
    },
    {
      "cell_type": "code",
      "metadata": {
        "id": "O81_sBlFc9Sg"
      },
      "source": [
        "df['history_of_compliance'].replace({0:'delay in paying off in the past' ,\n",
        "                                    1:'critical account/other credits elsewhere' , \n",
        "                                    2:'no credits taken/all credits paid back duly',\n",
        "                                    3:'existing credits paid back duly till now',\n",
        "                                    4:'all credits at this bank paid back duly' }, inplace=True)"
      ],
      "execution_count": 132,
      "outputs": []
    },
    {
      "cell_type": "code",
      "metadata": {
        "id": "utMePHzTc9V-"
      },
      "source": [
        "df['credit_purpose'].replace({0:'others' ,\n",
        "                               1:'car (new)' ,\n",
        "                               2:'car (used)',\n",
        "                               3:'furniture/equipment',\n",
        "                               4:'radio/television',\n",
        "                               5:'domestic appliances',\n",
        "                               6:'repairs',\n",
        "                               7:'education',\n",
        "                               8:'vacation',\n",
        "                               9:'retraining',\n",
        "                               10:'business'}, inplace=True)"
      ],
      "execution_count": 133,
      "outputs": []
    },
    {
      "cell_type": "code",
      "metadata": {
        "id": "DKFDPOHPc9Zq"
      },
      "source": [
        "df['savings'].replace({1:'unknown/no savings account',\n",
        "                       2:'savings <  100 DM ',\n",
        "                       3:'100 <= savings <  500 DM',\n",
        "                       4:'500 <= savings < 1000 DM',\n",
        "                       5:'savings >= 1000 DM '}, inplace=True)"
      ],
      "execution_count": 134,
      "outputs": []
    },
    {
      "cell_type": "code",
      "metadata": {
        "id": "qQ3Jv6Lbc9cz"
      },
      "source": [
        "df['employment_duration'].replace({1:'unemployed',\n",
        "                       2:'< 1 yr',\n",
        "                       3:'1 <= duration < 4 yrs',\n",
        "                       4:'4 <= duration < 7 yrs',\n",
        "                       5:'>= 7 yrs'}, inplace=True)"
      ],
      "execution_count": 135,
      "outputs": []
    },
    {
      "cell_type": "code",
      "metadata": {
        "id": "ujDmboV1i3OW"
      },
      "source": [
        "df['installment_rate'].replace({1: '>= 35',\n",
        "                       2:'25 <= rate < 35',\n",
        "                       3:'20 <= rate < 25',\n",
        "                       4:'<20'}, inplace=True)"
      ],
      "execution_count": 136,
      "outputs": []
    },
    {
      "cell_type": "code",
      "metadata": {
        "id": "e4JSRd3Mi3Rr"
      },
      "source": [
        "df['personal_status_sex'].replace({1: 'male (divorced/separated) ',\n",
        "                       2:'female (non-single) or male (single)',\n",
        "                       3:'male (married/widowed)',\n",
        "                       4:'female (single)'}, inplace=True)"
      ],
      "execution_count": 137,
      "outputs": []
    },
    {
      "cell_type": "code",
      "metadata": {
        "id": "1CqjQveRi3Yo"
      },
      "source": [
        "df['other_debtors'].replace({1: 'none',\n",
        "                       2:'co-applicant',\n",
        "                       3:'guarantor'}, inplace=True)"
      ],
      "execution_count": 138,
      "outputs": []
    },
    {
      "cell_type": "code",
      "metadata": {
        "id": "-KRGmKIPi3c2"
      },
      "source": [
        "df['present_residence'].replace({1: '< 1yr',\n",
        "                       2:'1 <= reside < 4 yrs',\n",
        "                       3:'4 <= reside < 7',\n",
        "                       4:'>= yrs'}, inplace=True)"
      ],
      "execution_count": 139,
      "outputs": []
    },
    {
      "cell_type": "code",
      "metadata": {
        "id": "9Sx2y420i3pQ"
      },
      "source": [
        "df['property'].replace({1: 'unknown / no property',\n",
        "                       2:'car or other',\n",
        "                       3:'building soc. savings agr./life insurance',\n",
        "                       4:'real estate'}, inplace=True)"
      ],
      "execution_count": 140,
      "outputs": []
    },
    {
      "cell_type": "code",
      "metadata": {
        "id": "w50_2pogi3sw"
      },
      "source": [
        "df['other_installment_plans'].replace({1: 'bank',\n",
        "                       2:'stores',\n",
        "                       3:'none'}, inplace=True)"
      ],
      "execution_count": 141,
      "outputs": []
    },
    {
      "cell_type": "code",
      "metadata": {
        "id": "3MkgMN8QmNEo"
      },
      "source": [
        "df['type_of_housing'].replace({1: 'for free',\n",
        "                       2:'rent',\n",
        "                       3:'own'}, inplace=True)"
      ],
      "execution_count": 142,
      "outputs": []
    },
    {
      "cell_type": "code",
      "metadata": {
        "id": "zysLEq6JmNKi"
      },
      "source": [
        "df['number_credits'].replace({1: '1',\n",
        "                       2:'2-3',\n",
        "                       3:'4-5',\n",
        "                       4:'>=6'}, inplace=True)"
      ],
      "execution_count": 143,
      "outputs": []
    },
    {
      "cell_type": "code",
      "metadata": {
        "id": "K7TBzQ_wm6rW"
      },
      "source": [
        "df['job'].replace({1:'unemployed/unskilled - non-resident',\n",
        "                   2:'unskilled - resident',\n",
        "                   3:'skilled employee/official',\n",
        "                   4:'manager/self-empl./highly qualif. employee'}, inplace=True)"
      ],
      "execution_count": 144,
      "outputs": []
    },
    {
      "cell_type": "code",
      "metadata": {
        "id": "_2Q1d5_ym6zc"
      },
      "source": [
        "df['people_liable'].replace({1:'3 or more' , 2:'0 to 2'}, inplace=True)"
      ],
      "execution_count": 145,
      "outputs": []
    },
    {
      "cell_type": "code",
      "metadata": {
        "id": "BKhxoJtDm64M"
      },
      "source": [
        "df['foreign_worker'].replace({0:'no' , 1:'yes'}, inplace=True)"
      ],
      "execution_count": 146,
      "outputs": []
    },
    {
      "cell_type": "code",
      "metadata": {
        "id": "rT68HlHfasg1"
      },
      "source": [
        "df['credit_risk'].replace({0:'bad' , 1:'good'}, inplace=True)"
      ],
      "execution_count": 147,
      "outputs": []
    },
    {
      "cell_type": "code",
      "metadata": {
        "colab": {
          "base_uri": "https://localhost:8080/",
          "height": 394
        },
        "id": "KNTpC_nGi3Vb",
        "outputId": "ee596690-3c32-4336-e143-972f57e8c685"
      },
      "source": [
        "df.head()"
      ],
      "execution_count": 148,
      "outputs": [
        {
          "output_type": "execute_result",
          "data": {
            "text/html": [
              "<div>\n",
              "<style scoped>\n",
              "    .dataframe tbody tr th:only-of-type {\n",
              "        vertical-align: middle;\n",
              "    }\n",
              "\n",
              "    .dataframe tbody tr th {\n",
              "        vertical-align: top;\n",
              "    }\n",
              "\n",
              "    .dataframe thead th {\n",
              "        text-align: right;\n",
              "    }\n",
              "</style>\n",
              "<table border=\"1\" class=\"dataframe\">\n",
              "  <thead>\n",
              "    <tr style=\"text-align: right;\">\n",
              "      <th></th>\n",
              "      <th>account_status</th>\n",
              "      <th>credit_duration</th>\n",
              "      <th>history_of_compliance</th>\n",
              "      <th>credit_purpose</th>\n",
              "      <th>credit_amount</th>\n",
              "      <th>savings</th>\n",
              "      <th>employment_duration</th>\n",
              "      <th>installment_rate</th>\n",
              "      <th>personal_status_sex</th>\n",
              "      <th>other_debtors</th>\n",
              "      <th>present_residence</th>\n",
              "      <th>property</th>\n",
              "      <th>age</th>\n",
              "      <th>other_installment_plans</th>\n",
              "      <th>type_of_housing</th>\n",
              "      <th>number_credits</th>\n",
              "      <th>job</th>\n",
              "      <th>people_liable</th>\n",
              "      <th>foreign_worker</th>\n",
              "      <th>level_of_education</th>\n",
              "      <th>entry_payment</th>\n",
              "      <th>credit_risk</th>\n",
              "    </tr>\n",
              "  </thead>\n",
              "  <tbody>\n",
              "    <tr>\n",
              "      <th>0</th>\n",
              "      <td>no checking account</td>\n",
              "      <td>18</td>\n",
              "      <td>all credits at this bank paid back duly</td>\n",
              "      <td>car (used)</td>\n",
              "      <td>1049</td>\n",
              "      <td>unknown/no savings account</td>\n",
              "      <td>&lt; 1 yr</td>\n",
              "      <td>&lt;20</td>\n",
              "      <td>female (non-single) or male (single)</td>\n",
              "      <td>none</td>\n",
              "      <td>&gt;= yrs</td>\n",
              "      <td>car or other</td>\n",
              "      <td>21</td>\n",
              "      <td>none</td>\n",
              "      <td>for free</td>\n",
              "      <td>1</td>\n",
              "      <td>skilled employee/official</td>\n",
              "      <td>0 to 2</td>\n",
              "      <td>no</td>\n",
              "      <td>3</td>\n",
              "      <td>52.45</td>\n",
              "      <td>good</td>\n",
              "    </tr>\n",
              "    <tr>\n",
              "      <th>1</th>\n",
              "      <td>no checking account</td>\n",
              "      <td>9</td>\n",
              "      <td>all credits at this bank paid back duly</td>\n",
              "      <td>others</td>\n",
              "      <td>2799</td>\n",
              "      <td>unknown/no savings account</td>\n",
              "      <td>1 &lt;= duration &lt; 4 yrs</td>\n",
              "      <td>25 &lt;= rate &lt; 35</td>\n",
              "      <td>male (married/widowed)</td>\n",
              "      <td>none</td>\n",
              "      <td>1 &lt;= reside &lt; 4 yrs</td>\n",
              "      <td>unknown / no property</td>\n",
              "      <td>36</td>\n",
              "      <td>none</td>\n",
              "      <td>for free</td>\n",
              "      <td>2-3</td>\n",
              "      <td>skilled employee/official</td>\n",
              "      <td>3 or more</td>\n",
              "      <td>no</td>\n",
              "      <td>3</td>\n",
              "      <td>167.94</td>\n",
              "      <td>good</td>\n",
              "    </tr>\n",
              "    <tr>\n",
              "      <th>2</th>\n",
              "      <td>account &lt; 0 DM</td>\n",
              "      <td>12</td>\n",
              "      <td>no credits taken/all credits paid back duly</td>\n",
              "      <td>retraining</td>\n",
              "      <td>841</td>\n",
              "      <td>savings &lt;  100 DM</td>\n",
              "      <td>4 &lt;= duration &lt; 7 yrs</td>\n",
              "      <td>25 &lt;= rate &lt; 35</td>\n",
              "      <td>female (non-single) or male (single)</td>\n",
              "      <td>none</td>\n",
              "      <td>&gt;= yrs</td>\n",
              "      <td>unknown / no property</td>\n",
              "      <td>23</td>\n",
              "      <td>none</td>\n",
              "      <td>for free</td>\n",
              "      <td>1</td>\n",
              "      <td>unskilled - resident</td>\n",
              "      <td>0 to 2</td>\n",
              "      <td>no</td>\n",
              "      <td>4</td>\n",
              "      <td>58.87</td>\n",
              "      <td>good</td>\n",
              "    </tr>\n",
              "    <tr>\n",
              "      <th>3</th>\n",
              "      <td>no checking account</td>\n",
              "      <td>12</td>\n",
              "      <td>all credits at this bank paid back duly</td>\n",
              "      <td>others</td>\n",
              "      <td>2122</td>\n",
              "      <td>unknown/no savings account</td>\n",
              "      <td>1 &lt;= duration &lt; 4 yrs</td>\n",
              "      <td>20 &lt;= rate &lt; 25</td>\n",
              "      <td>male (married/widowed)</td>\n",
              "      <td>none</td>\n",
              "      <td>1 &lt;= reside &lt; 4 yrs</td>\n",
              "      <td>unknown / no property</td>\n",
              "      <td>39</td>\n",
              "      <td>none</td>\n",
              "      <td>for free</td>\n",
              "      <td>2-3</td>\n",
              "      <td>unskilled - resident</td>\n",
              "      <td>3 or more</td>\n",
              "      <td>yes</td>\n",
              "      <td>2</td>\n",
              "      <td>148.54</td>\n",
              "      <td>good</td>\n",
              "    </tr>\n",
              "    <tr>\n",
              "      <th>4</th>\n",
              "      <td>no checking account</td>\n",
              "      <td>12</td>\n",
              "      <td>all credits at this bank paid back duly</td>\n",
              "      <td>others</td>\n",
              "      <td>2171</td>\n",
              "      <td>unknown/no savings account</td>\n",
              "      <td>1 &lt;= duration &lt; 4 yrs</td>\n",
              "      <td>&lt;20</td>\n",
              "      <td>male (married/widowed)</td>\n",
              "      <td>none</td>\n",
              "      <td>&gt;= yrs</td>\n",
              "      <td>car or other</td>\n",
              "      <td>38</td>\n",
              "      <td>bank</td>\n",
              "      <td>rent</td>\n",
              "      <td>2-3</td>\n",
              "      <td>unskilled - resident</td>\n",
              "      <td>0 to 2</td>\n",
              "      <td>yes</td>\n",
              "      <td>4</td>\n",
              "      <td>151.97</td>\n",
              "      <td>good</td>\n",
              "    </tr>\n",
              "  </tbody>\n",
              "</table>\n",
              "</div>"
            ],
            "text/plain": [
              "        account_status  credit_duration  ... entry_payment credit_risk\n",
              "0  no checking account               18  ...         52.45        good\n",
              "1  no checking account                9  ...        167.94        good\n",
              "2       account < 0 DM               12  ...         58.87        good\n",
              "3  no checking account               12  ...        148.54        good\n",
              "4  no checking account               12  ...        151.97        good\n",
              "\n",
              "[5 rows x 22 columns]"
            ]
          },
          "metadata": {},
          "execution_count": 148
        }
      ]
    },
    {
      "cell_type": "markdown",
      "metadata": {
        "id": "fUc99GfCq5ex"
      },
      "source": [
        "Agrupei os dados por `account_status` e `savings` para entender se há correlação entre eles e o `credit_risk`. Pode-se observar que pessoas que possuem uma reserva financeira e credito em conta são mais propensas a honrar com o pagamento de dívidas. Há mais pessoas com um risco ruim e que não possuem contas no banco e reservas financeiras, do que pessoas com um risco bom. (140 para o primeiro e 121 para o segundo)"
      ]
    },
    {
      "cell_type": "code",
      "metadata": {
        "colab": {
          "base_uri": "https://localhost:8080/",
          "height": 731
        },
        "id": "2aJxQ0PjAyhR",
        "outputId": "29b2aa5b-d40f-46aa-dc77-ae4265b27360"
      },
      "source": [
        "pd.crosstab([df['account_status'], df['savings']],  df['credit_risk'], margins=True)"
      ],
      "execution_count": 149,
      "outputs": [
        {
          "output_type": "execute_result",
          "data": {
            "text/html": [
              "<div>\n",
              "<style scoped>\n",
              "    .dataframe tbody tr th:only-of-type {\n",
              "        vertical-align: middle;\n",
              "    }\n",
              "\n",
              "    .dataframe tbody tr th {\n",
              "        vertical-align: top;\n",
              "    }\n",
              "\n",
              "    .dataframe thead th {\n",
              "        text-align: right;\n",
              "    }\n",
              "</style>\n",
              "<table border=\"1\" class=\"dataframe\">\n",
              "  <thead>\n",
              "    <tr style=\"text-align: right;\">\n",
              "      <th></th>\n",
              "      <th>credit_risk</th>\n",
              "      <th>bad</th>\n",
              "      <th>good</th>\n",
              "      <th>All</th>\n",
              "    </tr>\n",
              "    <tr>\n",
              "      <th>account_status</th>\n",
              "      <th>savings</th>\n",
              "      <th></th>\n",
              "      <th></th>\n",
              "      <th></th>\n",
              "    </tr>\n",
              "  </thead>\n",
              "  <tbody>\n",
              "    <tr>\n",
              "      <th rowspan=\"5\" valign=\"top\">0&lt;= account &lt; 200 DM</th>\n",
              "      <th>100 &lt;= savings &lt;  500 DM</th>\n",
              "      <td>2</td>\n",
              "      <td>6</td>\n",
              "      <td>8</td>\n",
              "    </tr>\n",
              "    <tr>\n",
              "      <th>500 &lt;= savings &lt; 1000 DM</th>\n",
              "      <td>3</td>\n",
              "      <td>10</td>\n",
              "      <td>13</td>\n",
              "    </tr>\n",
              "    <tr>\n",
              "      <th>savings &lt;  100 DM</th>\n",
              "      <td>1</td>\n",
              "      <td>8</td>\n",
              "      <td>9</td>\n",
              "    </tr>\n",
              "    <tr>\n",
              "      <th>savings &gt;= 1000 DM</th>\n",
              "      <td>2</td>\n",
              "      <td>10</td>\n",
              "      <td>12</td>\n",
              "    </tr>\n",
              "    <tr>\n",
              "      <th>unknown/no savings account</th>\n",
              "      <td>13</td>\n",
              "      <td>52</td>\n",
              "      <td>65</td>\n",
              "    </tr>\n",
              "    <tr>\n",
              "      <th rowspan=\"5\" valign=\"top\">account &lt; 0 DM</th>\n",
              "      <th>100 &lt;= savings &lt;  500 DM</th>\n",
              "      <td>4</td>\n",
              "      <td>17</td>\n",
              "      <td>21</td>\n",
              "    </tr>\n",
              "    <tr>\n",
              "      <th>500 &lt;= savings &lt; 1000 DM</th>\n",
              "      <td>6</td>\n",
              "      <td>16</td>\n",
              "      <td>22</td>\n",
              "    </tr>\n",
              "    <tr>\n",
              "      <th>savings &lt;  100 DM</th>\n",
              "      <td>27</td>\n",
              "      <td>30</td>\n",
              "      <td>57</td>\n",
              "    </tr>\n",
              "    <tr>\n",
              "      <th>savings &gt;= 1000 DM</th>\n",
              "      <td>7</td>\n",
              "      <td>39</td>\n",
              "      <td>46</td>\n",
              "    </tr>\n",
              "    <tr>\n",
              "      <th>unknown/no savings account</th>\n",
              "      <td>80</td>\n",
              "      <td>109</td>\n",
              "      <td>189</td>\n",
              "    </tr>\n",
              "    <tr>\n",
              "      <th rowspan=\"5\" valign=\"top\">account &gt;= 200 DM / salary for at least 1 year</th>\n",
              "      <th>100 &lt;= savings &lt;  500 DM</th>\n",
              "      <td>6</td>\n",
              "      <td>39</td>\n",
              "      <td>45</td>\n",
              "    </tr>\n",
              "    <tr>\n",
              "      <th>500 &lt;= savings &lt; 1000 DM</th>\n",
              "      <td>2</td>\n",
              "      <td>23</td>\n",
              "      <td>25</td>\n",
              "    </tr>\n",
              "    <tr>\n",
              "      <th>savings &lt;  100 DM</th>\n",
              "      <td>5</td>\n",
              "      <td>42</td>\n",
              "      <td>47</td>\n",
              "    </tr>\n",
              "    <tr>\n",
              "      <th>savings &gt;= 1000 DM</th>\n",
              "      <td>9</td>\n",
              "      <td>94</td>\n",
              "      <td>103</td>\n",
              "    </tr>\n",
              "    <tr>\n",
              "      <th>unknown/no savings account</th>\n",
              "      <td>27</td>\n",
              "      <td>179</td>\n",
              "      <td>206</td>\n",
              "    </tr>\n",
              "    <tr>\n",
              "      <th rowspan=\"5\" valign=\"top\">no checking account</th>\n",
              "      <th>100 &lt;= savings &lt;  500 DM</th>\n",
              "      <td>2</td>\n",
              "      <td>9</td>\n",
              "      <td>11</td>\n",
              "    </tr>\n",
              "    <tr>\n",
              "      <th>500 &lt;= savings &lt; 1000 DM</th>\n",
              "      <td>2</td>\n",
              "      <td>8</td>\n",
              "      <td>10</td>\n",
              "    </tr>\n",
              "    <tr>\n",
              "      <th>savings &lt;  100 DM</th>\n",
              "      <td>8</td>\n",
              "      <td>13</td>\n",
              "      <td>21</td>\n",
              "    </tr>\n",
              "    <tr>\n",
              "      <th>savings &gt;= 1000 DM</th>\n",
              "      <td>14</td>\n",
              "      <td>15</td>\n",
              "      <td>29</td>\n",
              "    </tr>\n",
              "    <tr>\n",
              "      <th>unknown/no savings account</th>\n",
              "      <td>140</td>\n",
              "      <td>121</td>\n",
              "      <td>261</td>\n",
              "    </tr>\n",
              "    <tr>\n",
              "      <th>All</th>\n",
              "      <th></th>\n",
              "      <td>360</td>\n",
              "      <td>840</td>\n",
              "      <td>1200</td>\n",
              "    </tr>\n",
              "  </tbody>\n",
              "</table>\n",
              "</div>"
            ],
            "text/plain": [
              "credit_risk                                                                bad  ...   All\n",
              "account_status                                 savings                          ...      \n",
              "0<= account < 200 DM                           100 <= savings <  500 DM      2  ...     8\n",
              "                                               500 <= savings < 1000 DM      3  ...    13\n",
              "                                               savings <  100 DM             1  ...     9\n",
              "                                               savings >= 1000 DM            2  ...    12\n",
              "                                               unknown/no savings account   13  ...    65\n",
              "account < 0 DM                                 100 <= savings <  500 DM      4  ...    21\n",
              "                                               500 <= savings < 1000 DM      6  ...    22\n",
              "                                               savings <  100 DM            27  ...    57\n",
              "                                               savings >= 1000 DM            7  ...    46\n",
              "                                               unknown/no savings account   80  ...   189\n",
              "account >= 200 DM / salary for at least 1 year 100 <= savings <  500 DM      6  ...    45\n",
              "                                               500 <= savings < 1000 DM      2  ...    25\n",
              "                                               savings <  100 DM             5  ...    47\n",
              "                                               savings >= 1000 DM            9  ...   103\n",
              "                                               unknown/no savings account   27  ...   206\n",
              "no checking account                            100 <= savings <  500 DM      2  ...    11\n",
              "                                               500 <= savings < 1000 DM      2  ...    10\n",
              "                                               savings <  100 DM             8  ...    21\n",
              "                                               savings >= 1000 DM           14  ...    29\n",
              "                                               unknown/no savings account  140  ...   261\n",
              "All                                                                        360  ...  1200\n",
              "\n",
              "[21 rows x 3 columns]"
            ]
          },
          "metadata": {},
          "execution_count": 149
        }
      ]
    },
    {
      "cell_type": "markdown",
      "metadata": {
        "id": "zhUD2TpBJov4"
      },
      "source": [
        "Buscando avaliar como cada atributo do dataframe interfere no risco de crédito de cada pessoa, criei duas funções que retornam um outro dataframe com a porcentagem e os valores da média, desvio padrão e amplitude das porcentagens de maus pagadores para cada categoria do atributo escolhido.\n",
        "\n",
        "Para isso, foi necessario criar duas funções, uma para os dados quantitativos `avalia_risco_quant` e outra para os dados categoricos `avalia_risco_cat`. \n",
        "\n",
        "A `avalia_risco_quant` categoriza os dados de acordo com os valores dos 4 quartis que foram obtidos com o a função `describe`.  \n",
        "A função `avalia_risco_cat` faz uso do `pivot_table` para agrupa os dados de cada coluna, de acordo com a sua categoria, e somar a quantidade de dados presentes em cada uma. "
      ]
    },
    {
      "cell_type": "code",
      "metadata": {
        "id": "KwxbGVNIYYTi"
      },
      "source": [
        "dados['idx']=1\n",
        "dados['credit_risk_cat'] = dados['credit_risk'].replace({0:'bad', 1:'good'})\n",
        "def avalia_risco_quant(df, col):\n",
        "  dados_cut = pd.cut(df[col], bins=[x for x in df[col].describe()[3:]])\n",
        "  avaliacao = df[['credit_risk', 'idx']].groupby(dados_cut).sum().reset_index()\n",
        "  avaliacao['porcentagem_risco_ruim'] = round((1 - (avaliacao['credit_risk'] / avaliacao['idx']))*100,4)\n",
        "  amplitude = round(avaliacao['porcentagem_risco_ruim'].max()- avaliacao['porcentagem_risco_ruim'].min(),4)\n",
        "  media = round(avaliacao['porcentagem_risco_ruim'].mean(),4)\n",
        "  desvio = round(avaliacao['porcentagem_risco_ruim'].std(),4)\n",
        "  return avaliacao, amplitude, media, desvio\n",
        "\n",
        "def avalia_risco_cat(df, col):\n",
        "  avaliacao=df.pivot_table('idx',index=col, columns='credit_risk_cat',aggfunc=sum,margins=True).reset_index()\n",
        "  avaliacao['porcentagem_risco_ruim'] = round((avaliacao['bad']/avaliacao['All'])*100,4)\n",
        "  amplitude = round(avaliacao['porcentagem_risco_ruim'].max()- avaliacao['porcentagem_risco_ruim'].min(),4)\n",
        "  media = round(avaliacao['porcentagem_risco_ruim'].mean(),4)\n",
        "  desvio = round(avaliacao['porcentagem_risco_ruim'].std(),4)\n",
        "  return (avaliacao[:-1]).sort_values( 'porcentagem_risco_ruim', ascending = False), amplitude,media, desvio\n",
        "\n",
        "\n"
      ],
      "execution_count": 150,
      "outputs": []
    },
    {
      "cell_type": "markdown",
      "metadata": {
        "id": "no7Z1wDjo6lh"
      },
      "source": [
        "Utilizei um laço de repetição para visualizar os dataframes"
      ]
    },
    {
      "cell_type": "code",
      "metadata": {
        "colab": {
          "base_uri": "https://localhost:8080/"
        },
        "id": "SyBZmGhxs2jv",
        "outputId": "e03c810f-6450-45d7-b1e4-e9152a9352b4"
      },
      "source": [
        "for col in ['credit_duration', 'credit_amount', 'entry_payment', 'age' ]:\n",
        "  print(col)\n",
        "  retorno, amplitude,media, desvio = avalia_risco_quant(dados, col)\n",
        "  print(retorno)\n",
        "  print(f'media das porcentagens: {media}')\n",
        "  print(f'desvio padrão das porcentagens: {desvio}')\n",
        "  print(f'amplitude amostral das porcentagens: {amplitude}\\n')"
      ],
      "execution_count": 151,
      "outputs": [
        {
          "output_type": "stream",
          "name": "stdout",
          "text": [
            "credit_duration\n",
            "  credit_duration  credit_risk  idx  porcentagem_risco_ruim\n",
            "0     (4.0, 12.0]          325  414                 21.4976\n",
            "1    (12.0, 18.0]          164  234                 29.9145\n",
            "2    (18.0, 24.0]          189  273                 30.7692\n",
            "3    (24.0, 72.0]          156  273                 42.8571\n",
            "media das porcentagens: 31.2596\n",
            "desvio padrão das porcentagens: 8.7911\n",
            "amplitude amostral das porcentagens: 21.3595\n",
            "\n",
            "credit_amount\n",
            "       credit_amount  credit_risk  idx  porcentagem_risco_ruim\n",
            "0    (250.0, 1359.5]          205  299                 31.4381\n",
            "1   (1359.5, 2300.0]          223  300                 25.6667\n",
            "2   (2300.0, 3959.0]          235  301                 21.9269\n",
            "3  (3959.0, 18424.0]          176  299                 41.1371\n",
            "media das porcentagens: 30.0422\n",
            "desvio padrão das porcentagens: 8.3676\n",
            "amplitude amostral das porcentagens: 19.2102\n",
            "\n",
            "entry_payment\n",
            "        entry_payment  credit_risk  idx  porcentagem_risco_ruim\n",
            "0      (12.5, 80.745]          211  299                 29.4314\n",
            "1    (80.745, 136.86]          222  300                 26.0000\n",
            "2   (136.86, 245.262]          218  300                 27.3333\n",
            "3  (245.262, 1289.68]          188  300                 37.3333\n",
            "media das porcentagens: 30.0245\n",
            "desvio padrão das porcentagens: 5.0731\n",
            "amplitude amostral das porcentagens: 11.3333\n",
            "\n",
            "age\n",
            "            age  credit_risk  idx  porcentagem_risco_ruim\n",
            "0  (19.0, 27.0]          209  336                 37.7976\n",
            "1  (27.0, 33.0]          188  280                 32.8571\n",
            "2  (33.0, 41.0]          229  288                 20.4861\n",
            "3  (41.0, 75.0]          213  294                 27.5510\n",
            "media das porcentagens: 29.673\n",
            "desvio padrão das porcentagens: 7.4173\n",
            "amplitude amostral das porcentagens: 17.3115\n",
            "\n"
          ]
        }
      ]
    },
    {
      "cell_type": "code",
      "metadata": {
        "colab": {
          "base_uri": "https://localhost:8080/"
        },
        "id": "a51CI3SmuaIw",
        "outputId": "609a28b0-0a51-40c7-a8aa-6d9032203469"
      },
      "source": [
        "for col in ['account_status','history_of_compliance','credit_purpose','savings',\\\n",
        "            'employment_duration','installment_rate','personal_status_sex',\\\n",
        "            'other_debtors','present_residence','number_credits','type_of_housing',\\\n",
        "            'other_installment_plans', 'job', 'people_liable', 'level_of_education',\\\n",
        "            'foreign_worker']:\n",
        "  print(col)\n",
        "  retorno, amplitude, media, desvio = avalia_risco_cat(dados, col)\n",
        "  print(retorno)\n",
        "  print(f'media das porcentagens: {media}')\n",
        "  print(f'desvio padrão das porcentagens: {desvio}')\n",
        "  print(f'amplitude amostral das porcentagens: {amplitude}\\n')"
      ],
      "execution_count": 152,
      "outputs": [
        {
          "output_type": "stream",
          "name": "stdout",
          "text": [
            "account_status\n",
            "credit_risk_cat account_status  bad  good  All  porcentagem_risco_ruim\n",
            "0                            1  166   166  332                 50.0000\n",
            "1                            2  124   211  335                 37.0149\n",
            "2                            3   21    86  107                 19.6262\n",
            "3                            4   49   377  426                 11.5023\n",
            "media das porcentagens: 29.6287\n",
            "desvio padrão das porcentagens: 14.9858\n",
            "amplitude amostral das porcentagens: 38.4977\n",
            "\n",
            "history_of_compliance\n",
            "credit_risk_cat history_of_compliance  bad  good  All  porcentagem_risco_ruim\n",
            "0                                   0   31    16   47                 65.9574\n",
            "1                                   1   37    35   72                 51.3889\n",
            "2                                   2  205   441  646                 31.7337\n",
            "3                                   3   37    88  125                 29.6000\n",
            "4                                   4   50   260  310                 16.1290\n",
            "media das porcentagens: 37.4682\n",
            "desvio padrão das porcentagens: 17.9519\n",
            "amplitude amostral das porcentagens: 49.8284\n",
            "\n",
            "credit_purpose\n",
            "credit_risk_cat credit_purpose  bad  good  All  porcentagem_risco_ruim\n",
            "7                            7    5     3    8                 62.5000\n",
            "6                            6   24    32   56                 42.8571\n",
            "10                          10    5     7   12                 41.6667\n",
            "0                            0  108   175  283                 38.1625\n",
            "9                            9   34    64   98                 34.6939\n",
            "2                            2   77   156  233                 33.0472\n",
            "4                            4    8    20   28                 28.5714\n",
            "5                            5    8    22   30                 26.6667\n",
            "3                            3   68   243  311                 21.8650\n",
            "8                            8    2    10   12                 16.6667\n",
            "1                            1   21   108  129                 16.2791\n",
            "media das porcentagens: 32.748\n",
            "desvio padrão das porcentagens: 12.8288\n",
            "amplitude amostral das porcentagens: 46.2209\n",
            "\n",
            "savings\n",
            "credit_risk_cat savings  bad  good  All  porcentagem_risco_ruim\n",
            "0                     1  260   461  721                 36.0610\n",
            "1                     2   41    93  134                 30.5970\n",
            "3                     4   13    57   70                 18.5714\n",
            "4                     5   32   158  190                 16.8421\n",
            "2                     3   14    71   85                 16.4706\n",
            "media das porcentagens: 24.757\n",
            "desvio padrão das porcentagens: 8.4729\n",
            "amplitude amostral das porcentagens: 19.5904\n",
            "\n",
            "employment_duration\n",
            "credit_risk_cat employment_duration  bad  good  All  porcentagem_risco_ruim\n",
            "1                                 2   98   136  234                 41.8803\n",
            "0                                 1   30    45   75                 40.0000\n",
            "2                                 3  118   282  400                 29.5000\n",
            "4                                 5   65   200  265                 24.5283\n",
            "3                                 4   49   177  226                 21.6814\n",
            "media das porcentagens: 31.265\n",
            "desvio padrão das porcentagens: 8.1355\n",
            "amplitude amostral das porcentagens: 20.1989\n",
            "\n",
            "installment_rate\n",
            "credit_risk_cat installment_rate  bad  good  All  porcentagem_risco_ruim\n",
            "3                              4  182   350  532                 34.2105\n",
            "1                              2   78   209  287                 27.1777\n",
            "2                              3   56   151  207                 27.0531\n",
            "0                              1   44   130  174                 25.2874\n",
            "media das porcentagens: 28.7457\n",
            "desvio padrão das porcentagens: 3.49\n",
            "amplitude amostral das porcentagens: 8.9231\n",
            "\n",
            "personal_status_sex\n",
            "credit_risk_cat personal_status_sex  bad  good  All  porcentagem_risco_ruim\n",
            "0                                 1   23    34   57                 40.3509\n",
            "1                                 2  142   260  402                 35.3234\n",
            "3                                 4   26    70   96                 27.0833\n",
            "2                                 3  169   476  645                 26.2016\n",
            "media das porcentagens: 31.7918\n",
            "desvio padrão das porcentagens: 5.9658\n",
            "amplitude amostral das porcentagens: 14.1493\n",
            "\n",
            "other_debtors\n",
            "credit_risk_cat other_debtors  bad  good   All  porcentagem_risco_ruim\n",
            "1                           2   19    26    45                 42.2222\n",
            "0                           1  331   771  1102                 30.0363\n",
            "2                           3   10    43    53                 18.8679\n",
            "media das porcentagens: 30.2816\n",
            "desvio padrão das porcentagens: 9.5392\n",
            "amplitude amostral das porcentagens: 23.3543\n",
            "\n",
            "present_residence\n",
            "credit_risk_cat present_residence  bad  good  All  porcentagem_risco_ruim\n",
            "1                               2  120   265  385                 31.1688\n",
            "0                               1   46   109  155                 29.6774\n",
            "2                               3   62   147  209                 29.6651\n",
            "3                               4  132   319  451                 29.2683\n",
            "media das porcentagens: 29.9559\n",
            "desvio padrão das porcentagens: 0.7259\n",
            "amplitude amostral das porcentagens: 1.9005\n",
            "\n",
            "number_credits\n",
            "credit_risk_cat number_credits  bad  good  All  porcentagem_risco_ruim\n",
            "3                            4    2     4    6                 33.3333\n",
            "0                            1  251   552  803                 31.2578\n",
            "1                            2  101   261  362                 27.9006\n",
            "2                            3    6    23   29                 20.6897\n",
            "media das porcentagens: 28.6363\n",
            "desvio padrão das porcentagens: 4.8601\n",
            "amplitude amostral das porcentagens: 12.6436\n",
            "\n",
            "type_of_housing\n",
            "credit_risk_cat type_of_housing  bad  good  All  porcentagem_risco_ruim\n",
            "2                             3   45    63  108                 41.6667\n",
            "0                             1   89   147  236                 37.7119\n",
            "1                             2  226   630  856                 26.4019\n",
            "media das porcentagens: 33.9451\n",
            "desvio padrão das porcentagens: 6.9827\n",
            "amplitude amostral das porcentagens: 15.2648\n",
            "\n",
            "other_installment_plans\n",
            "credit_risk_cat other_installment_plans  bad  good  All  porcentagem_risco_ruim\n",
            "1                                     2   32    49   81                 39.5062\n",
            "0                                     1   64   101  165                 38.7879\n",
            "2                                     3  264   690  954                 27.6730\n",
            "media das porcentagens: 33.9918\n",
            "desvio padrão das porcentagens: 6.0353\n",
            "amplitude amostral das porcentagens: 11.8332\n",
            "\n",
            "job\n",
            "credit_risk_cat job  bad  good  All  porcentagem_risco_ruim\n",
            "0                 1   10    17   27                 37.0370\n",
            "3                 4   55   101  156                 35.2564\n",
            "2                 3  223   524  747                 29.8527\n",
            "1                 2   72   198  270                 26.6667\n",
            "media das porcentagens: 31.7626\n",
            "desvio padrão das porcentagens: 4.2646\n",
            "amplitude amostral das porcentagens: 10.3703\n",
            "\n",
            "people_liable\n",
            "credit_risk_cat people_liable  bad  good  All  porcentagem_risco_ruim\n",
            "1                           2  298   686  984                 30.2846\n",
            "0                           1   62   154  216                 28.7037\n",
            "media das porcentagens: 29.6628\n",
            "desvio padrão das porcentagens: 0.8427\n",
            "amplitude amostral das porcentagens: 1.5809\n",
            "\n",
            "level_of_education\n",
            "credit_risk_cat level_of_education  bad  good  All  porcentagem_risco_ruim\n",
            "1                                2  100   205  305                 32.7869\n",
            "2                                3   90   214  304                 29.6053\n",
            "0                                1   90   216  306                 29.4118\n",
            "3                                4   80   205  285                 28.0702\n",
            "media das porcentagens: 29.9748\n",
            "desvio padrão das porcentagens: 1.7313\n",
            "amplitude amostral das porcentagens: 4.7167\n",
            "\n",
            "foreign_worker\n",
            "credit_risk_cat foreign_worker  bad  good   All  porcentagem_risco_ruim\n",
            "0                            0  354   797  1151                 30.7559\n",
            "1                            1    6    43    49                 12.2449\n",
            "media das porcentagens: 24.3336\n",
            "desvio padrão das porcentagens: 10.4759\n",
            "amplitude amostral das porcentagens: 18.511\n",
            "\n"
          ]
        }
      ]
    },
    {
      "cell_type": "markdown",
      "metadata": {
        "id": "eWig3w9spCS5"
      },
      "source": [
        "Decidi criar um segundo dataframe (`dados_tratados`), que será a cópia do primeiro (`dados`) e excluir as colunas que possuem uma amplitude e desvio padrão de porcentagens baixos. Pois esses dados influenciam menos o modelo, excluir eles faz com que o modelo fique mais leve e otimizado. \n",
        "Eu rodei os modelos com o dataframe completo e os valores de acurácia foram próximos dos valores com o dataframe `dados_tratados`"
      ]
    },
    {
      "cell_type": "code",
      "metadata": {
        "colab": {
          "base_uri": "https://localhost:8080/"
        },
        "id": "6_-Dw4F_9KZf",
        "outputId": "5b1c4719-2e5d-4ac6-feb9-b7199f4df7b7"
      },
      "source": [
        "dados_tratados = dados.copy()\n",
        "dados_tratados.drop(['level_of_education', 'people_liable', 'job',\\\n",
        "                    'number_credits','present_residence','installment_rate','entry_payment','idx', 'credit_risk_cat'], axis=1, inplace = True )\n",
        "dados_tratados.info()"
      ],
      "execution_count": 153,
      "outputs": [
        {
          "output_type": "stream",
          "name": "stdout",
          "text": [
            "<class 'pandas.core.frame.DataFrame'>\n",
            "RangeIndex: 1200 entries, 0 to 1199\n",
            "Data columns (total 15 columns):\n",
            " #   Column                   Non-Null Count  Dtype\n",
            "---  ------                   --------------  -----\n",
            " 0   account_status           1200 non-null   int64\n",
            " 1   credit_duration          1200 non-null   int64\n",
            " 2   history_of_compliance    1200 non-null   int64\n",
            " 3   credit_purpose           1200 non-null   int64\n",
            " 4   credit_amount            1200 non-null   int64\n",
            " 5   savings                  1200 non-null   int64\n",
            " 6   employment_duration      1200 non-null   int64\n",
            " 7   personal_status_sex      1200 non-null   int64\n",
            " 8   other_debtors            1200 non-null   int64\n",
            " 9   property                 1200 non-null   int64\n",
            " 10  age                      1200 non-null   int64\n",
            " 11  other_installment_plans  1200 non-null   int64\n",
            " 12  type_of_housing          1200 non-null   int64\n",
            " 13  foreign_worker           1200 non-null   int64\n",
            " 14  credit_risk              1200 non-null   int64\n",
            "dtypes: int64(15)\n",
            "memory usage: 140.8 KB\n"
          ]
        }
      ]
    },
    {
      "cell_type": "markdown",
      "metadata": {
        "id": "PfZPt-y_lAmZ"
      },
      "source": [
        "Os valores de `credit_amount` e `entry_payment` são lineares, então não é necessário colocar os dois no modelo de aprendizagem"
      ]
    },
    {
      "cell_type": "code",
      "metadata": {
        "colab": {
          "base_uri": "https://localhost:8080/",
          "height": 309
        },
        "id": "cvoJFn5DFHw7",
        "outputId": "33118612-dcdf-41e6-a650-6bd5ad583d9f"
      },
      "source": [
        "sns.scatterplot(x='credit_amount', y = 'entry_payment', data=df)"
      ],
      "execution_count": 154,
      "outputs": [
        {
          "output_type": "execute_result",
          "data": {
            "text/plain": [
              "<matplotlib.axes._subplots.AxesSubplot at 0x7f8ca83e2690>"
            ]
          },
          "metadata": {},
          "execution_count": 154
        },
        {
          "output_type": "display_data",
          "data": {
            "image/png": "[encoded data removed]",
            "text/plain": [
              "<Figure size 432x288 with 1 Axes>"
            ]
          },
          "metadata": {}
        }
      ]
    },
    {
      "cell_type": "markdown",
      "metadata": {
        "id": "OzsKnXID8Yof"
      },
      "source": [
        "Os valores da maioria das colunas são categorizados, exceto `credit_amount, credit_duration` e `age`. Por isso decidi categorizar esses dados, para que todos os dados sejam uniformes e parecidos. "
      ]
    },
    {
      "cell_type": "code",
      "metadata": {
        "colab": {
          "base_uri": "https://localhost:8080/"
        },
        "id": "jx56XJqYRUiB",
        "outputId": "029694e4-b34f-4600-e1ac-51bc2de99918"
      },
      "source": [
        "dados_tratados['credit_amount'].describe()"
      ],
      "execution_count": 155,
      "outputs": [
        {
          "output_type": "execute_result",
          "data": {
            "text/plain": [
              "count     1200.000000\n",
              "mean      3239.492500\n",
              "std       2793.025577\n",
              "min        250.000000\n",
              "25%       1359.500000\n",
              "50%       2300.000000\n",
              "75%       3959.000000\n",
              "max      18424.000000\n",
              "Name: credit_amount, dtype: float64"
            ]
          },
          "metadata": {},
          "execution_count": 155
        }
      ]
    },
    {
      "cell_type": "code",
      "metadata": {
        "colab": {
          "base_uri": "https://localhost:8080/"
        },
        "id": "l7_NGAZaRUMA",
        "outputId": "bb173d05-3787-439c-be1c-6e8ba3e6a7e0"
      },
      "source": [
        "dados_tratados['credit_duration'].describe()"
      ],
      "execution_count": 156,
      "outputs": [
        {
          "output_type": "execute_result",
          "data": {
            "text/plain": [
              "count    1200.000000\n",
              "mean       20.642500\n",
              "std        11.694742\n",
              "min         4.000000\n",
              "25%        12.000000\n",
              "50%        18.000000\n",
              "75%        24.000000\n",
              "max        72.000000\n",
              "Name: credit_duration, dtype: float64"
            ]
          },
          "metadata": {},
          "execution_count": 156
        }
      ]
    },
    {
      "cell_type": "code",
      "metadata": {
        "colab": {
          "base_uri": "https://localhost:8080/"
        },
        "id": "RvtlAPIQ8Zt0",
        "outputId": "a1474e55-2ca6-44ad-f7d2-93c5c62f84ae"
      },
      "source": [
        "dados_tratados['age'].describe()"
      ],
      "execution_count": 157,
      "outputs": [
        {
          "output_type": "execute_result",
          "data": {
            "text/plain": [
              "count    1200.000000\n",
              "mean       35.295000\n",
              "std        10.941408\n",
              "min        19.000000\n",
              "25%        27.000000\n",
              "50%        33.000000\n",
              "75%        41.000000\n",
              "max        75.000000\n",
              "Name: age, dtype: float64"
            ]
          },
          "metadata": {},
          "execution_count": 157
        }
      ]
    },
    {
      "cell_type": "markdown",
      "metadata": {
        "id": "UW-OEwPTl8d2"
      },
      "source": [
        "Criei uma função `cria_categorias` onde para cada um dos atributos é categorizado de acordo com os quartis apresentados pela função `describe`. Para as colunas `credit_amount` e `credit_duration` fiz mais uma categoria, pois o último quartil (75% - 100%) possui uma amplitude alta em comparação com os demais."
      ]
    },
    {
      "cell_type": "code",
      "metadata": {
        "id": "x4qzqNjDDvtm"
      },
      "source": [
        "def cria_categorias(df, col, criterios):\n",
        "  for i, criterio in enumerate(criterios):\n",
        "    df.loc[df[col] < criterio, col+\"_classe\"] = i + 1\n",
        "  df.loc[df[col]>= criterios[0], col+\"_classe\"] = len(criterios) + 1\n",
        "  df[col+\"_classe\"] = df[col+\"_classe\"].astype(int)\n",
        "  return df"
      ],
      "execution_count": 158,
      "outputs": []
    },
    {
      "cell_type": "code",
      "metadata": {
        "colab": {
          "base_uri": "https://localhost:8080/"
        },
        "id": "6jY2WGZ2FdHL",
        "outputId": "0e059a2c-69a6-45ee-a20c-4969b6ce51ba"
      },
      "source": [
        "categorias = {\n",
        "    \"age\": [55,40,28],\n",
        "    \"credit_amount\": [13000,6000,3000,1500],\n",
        "    \"credit_duration\": [38,24,18,12]\n",
        "    }\n",
        "for col, criterios in categorias.items():\n",
        "  dados_tratados = cria_categorias(dados_tratados,col,criterios)\n",
        "\n",
        "dados_tratados['age_classe'].value_counts()"
      ],
      "execution_count": 159,
      "outputs": [
        {
          "output_type": "execute_result",
          "data": {
            "text/plain": [
              "2    513\n",
              "3    338\n",
              "1    266\n",
              "4     83\n",
              "Name: age_classe, dtype: int64"
            ]
          },
          "metadata": {},
          "execution_count": 159
        }
      ]
    },
    {
      "cell_type": "code",
      "metadata": {
        "colab": {
          "base_uri": "https://localhost:8080/"
        },
        "id": "fUf8gNK7TGWF",
        "outputId": "ceb40f9f-aa3b-4673-ab81-639c8132ec03"
      },
      "source": [
        "dados_tratados.isnull().sum()"
      ],
      "execution_count": 160,
      "outputs": [
        {
          "output_type": "execute_result",
          "data": {
            "text/plain": [
              "account_status             0\n",
              "credit_duration            0\n",
              "history_of_compliance      0\n",
              "credit_purpose             0\n",
              "credit_amount              0\n",
              "savings                    0\n",
              "employment_duration        0\n",
              "personal_status_sex        0\n",
              "other_debtors              0\n",
              "property                   0\n",
              "age                        0\n",
              "other_installment_plans    0\n",
              "type_of_housing            0\n",
              "foreign_worker             0\n",
              "credit_risk                0\n",
              "age_classe                 0\n",
              "credit_amount_classe       0\n",
              "credit_duration_classe     0\n",
              "dtype: int64"
            ]
          },
          "metadata": {},
          "execution_count": 160
        }
      ]
    },
    {
      "cell_type": "code",
      "metadata": {
        "id": "Yyy7_0zHTpKk"
      },
      "source": [
        "#apagando as colunas dos dados não categoricos.\n",
        "dados_tratados.drop(['age','credit_duration','credit_amount'], axis=1, inplace=True)\n"
      ],
      "execution_count": 161,
      "outputs": []
    },
    {
      "cell_type": "code",
      "metadata": {
        "colab": {
          "base_uri": "https://localhost:8080/"
        },
        "id": "DAgBXSufUPHV",
        "outputId": "cbbcd53f-5cc3-4a55-cd28-7697ddad624c"
      },
      "source": [
        "dados.info()"
      ],
      "execution_count": 162,
      "outputs": [
        {
          "output_type": "stream",
          "name": "stdout",
          "text": [
            "<class 'pandas.core.frame.DataFrame'>\n",
            "RangeIndex: 1200 entries, 0 to 1199\n",
            "Data columns (total 24 columns):\n",
            " #   Column                   Non-Null Count  Dtype  \n",
            "---  ------                   --------------  -----  \n",
            " 0   account_status           1200 non-null   int64  \n",
            " 1   credit_duration          1200 non-null   int64  \n",
            " 2   history_of_compliance    1200 non-null   int64  \n",
            " 3   credit_purpose           1200 non-null   int64  \n",
            " 4   credit_amount            1200 non-null   int64  \n",
            " 5   savings                  1200 non-null   int64  \n",
            " 6   employment_duration      1200 non-null   int64  \n",
            " 7   installment_rate         1200 non-null   int64  \n",
            " 8   personal_status_sex      1200 non-null   int64  \n",
            " 9   other_debtors            1200 non-null   int64  \n",
            " 10  present_residence        1200 non-null   int64  \n",
            " 11  property                 1200 non-null   int64  \n",
            " 12  age                      1200 non-null   int64  \n",
            " 13  other_installment_plans  1200 non-null   int64  \n",
            " 14  type_of_housing          1200 non-null   int64  \n",
            " 15  number_credits           1200 non-null   int64  \n",
            " 16  job                      1200 non-null   int64  \n",
            " 17  people_liable            1200 non-null   int64  \n",
            " 18  foreign_worker           1200 non-null   int64  \n",
            " 19  level_of_education       1200 non-null   int64  \n",
            " 20  entry_payment            1200 non-null   float64\n",
            " 21  credit_risk              1200 non-null   int64  \n",
            " 22  idx                      1200 non-null   int64  \n",
            " 23  credit_risk_cat          1200 non-null   object \n",
            "dtypes: float64(1), int64(22), object(1)\n",
            "memory usage: 225.1+ KB\n"
          ]
        }
      ]
    },
    {
      "cell_type": "markdown",
      "metadata": {
        "id": "x1pO9BvYJ4Jq"
      },
      "source": [
        "# Machine Learning - Logistic Regression/ Regressão Logística"
      ]
    },
    {
      "cell_type": "markdown",
      "metadata": {
        "id": "bpbcHmb3IyAh"
      },
      "source": [
        "Para implementar um modelo de classificação, é preciso separar a base de dados em base de treino e base de teste. O modelo aprende com a base de treino, e verifica a aprendizagem com a base de teste. A base de teste irá mostrar se as previsões estão de acordo com o esperado e a acurácia do modelo.\n",
        "Se o modelo é treinado e testado com a mesma base, o modelo entrega uma precisão alta de previsão, mas que não condiz com a realidade. \n",
        "\n",
        "Utilizei a função `train_teste_split` da biblioteca Scikit-Learn para fazer a divisão dos dados. \n",
        "\n",
        "Defini o conjunto de dados como `x`, que é o dataframe menos a coluna `credit_risk` e `y`, dados que  é a variável que o modelo irá prever, a coluna `credit_risk`. E o `x_treino`, `x_teste`, `y_treino`, `y_teste` do `train_test_split`.\n",
        "\n",
        "Na função `train_test_split` utilizei alguns parametros importantes, como o `test_size` que irá dividir a base de dados em 80% dos dados para treino e 20% para teste. O parametro `random_state` irá garantir que toda vez que eu rodar o código a saída será igual. Ele classifica todas as combinações de dados possíveis e, ao escolher um número, ele utiliza sempre a mesma combinação. \n",
        "Por fim, utilizei o parâmetro `stratify = y`, pois a base de dados tem um balanceamento de 70/30. E esse parametro garante que a base de teste e treino irá levar em consideração essa proporção de classe. Eu vi, também, que para alguns problemas é importante deixar o banco de dados balanceado e ~50/50. Como fiquei em dúvida de qual utilizar, mantive o balancemanto original dos dados. "
      ]
    },
    {
      "cell_type": "code",
      "metadata": {
        "id": "MN4P6GnaXajT"
      },
      "source": [
        "from sklearn.model_selection import train_test_split\n",
        "\n",
        "x = dados_tratados.drop('credit_risk', axis=1)\n",
        "y = dados_tratados['credit_risk']\n",
        "\n",
        "x_treino, x_teste, y_treino, y_teste = train_test_split(x,y, test_size = 0.2, stratify = y, random_state=42)"
      ],
      "execution_count": 163,
      "outputs": []
    },
    {
      "cell_type": "markdown",
      "metadata": {
        "id": "UENtbv2RLpNA"
      },
      "source": [
        "Eu escolhi como primeiro modelo a regressão logística, por se tratar de um método que é utilizado para problemas de classificação binária (0:bad, 1:good). O algoritmo irá analisar os aspectos e as variáveis que cada cliente e depois retorna a probabilidade dele pertencer a uma das classes.\n",
        "\n",
        "O modelo de regressão logistica será chamado de `modelo_lr` e declarei ele de acordo com a função `LogisticRegression()`. Eu li que é uma boa prática utilizar o parâmetro `max_iter`, pois assim ele irá convegir para um resultado e não aparece nenhum warning no retorno.\n",
        "\n",
        "Em seguida, utilizei a função `.fit(x_treino, y_treino)` para ajustar o modelo. Os argumentos passados são` x_treino` e `y_treino`, pois será por meio desses dados que o algoritmo aprenderá. \n",
        "A função `.score(x_teste, y_teste)` irá verificar a acurácia do modelo, ou seja, quantas predições o modelo acertou na base de teste. \n",
        "Como resultado, obtive o valor da acurácia: ~0,77. O que quer dizer que o modelo está acertando 77% das previsões, por exemplo, caso tenha 100 clientes o modelo irá acertar a classificação de 77 e errar a de 23."
      ]
    },
    {
      "cell_type": "code",
      "metadata": {
        "colab": {
          "base_uri": "https://localhost:8080/"
        },
        "id": "VO4F1R6vLnnB",
        "outputId": "0e49b311-d4e3-4ebc-b82f-f858acaff17d"
      },
      "source": [
        "from sklearn.linear_model import LogisticRegression\n",
        "\n",
        "modelo_lr = LogisticRegression(max_iter=1000)\n",
        "modelo_lr.fit(x_treino, y_treino)\n",
        "modelo_lr.score(x_teste, y_teste)"
      ],
      "execution_count": 164,
      "outputs": [
        {
          "output_type": "execute_result",
          "data": {
            "text/plain": [
              "0.7708333333333334"
            ]
          },
          "metadata": {},
          "execution_count": 164
        }
      ]
    },
    {
      "cell_type": "markdown",
      "metadata": {
        "id": "1WiZC1lwMy3F"
      },
      "source": [
        "Um bom jeito de testar se o modelo possui um bom valor de acurácia é comparar com o resultado de outro modelo. Para isso, utilizei o `DummyClassifier`, um modelo menos complexo do `Scikit-Learn`.\n",
        "\n",
        "O processo para ajustar este modelo é parecido com o utilizado para a regressão logística: dividir a base em treino e teste, definir um nome para esse modelo `modelo_dummy` e ajustar ele com os dados de treino e, ao final, verificar a acurácia com o conjunto teste.\n",
        "\n",
        "Para utilizar o `DummyClassifier` definir uma estratégia para fazer o ajuste do modelo. Para este caso, defini que a estratégia será os dados mais frequentes de valor no target. Assim, temos:` DummyClassifier('most_frequent')`, isso quer dizer que: dado o valor mais frequente da nossa variável resposta (1:good), o modelo Dummy vai chutar que todos os eventos da base de dados assumem aquele valor no target. Para calcular a acurácia utilizarei a função `accuracy_score` do `Scikit-Learn`. Ela receberá como parâmetros a base teste da variável resposta `y_teste` e as previsões do modelo `previsao_dummy` que recebe `x_teste` como parâmetro. "
      ]
    },
    {
      "cell_type": "code",
      "metadata": {
        "id": "OAyWyWXIXamb",
        "colab": {
          "base_uri": "https://localhost:8080/"
        },
        "outputId": "a1692327-31a2-4a9d-be09-66b65bd6d4f6"
      },
      "source": [
        "from sklearn.dummy import DummyClassifier\n",
        "from sklearn.metrics import accuracy_score\n",
        "\n",
        "modelo_dummy = DummyClassifier('most_frequent')\n",
        "modelo_dummy.fit(x_treino, y_treino)\n",
        "previsao_dummy = modelo_dummy.predict(x_teste)\n",
        "accuracy_score(y_teste, previsao_dummy)"
      ],
      "execution_count": 165,
      "outputs": [
        {
          "output_type": "execute_result",
          "data": {
            "text/plain": [
              "0.7"
            ]
          },
          "metadata": {},
          "execution_count": 165
        }
      ]
    },
    {
      "cell_type": "markdown",
      "metadata": {
        "id": "Cw6nNKGcNhoM"
      },
      "source": [
        "A acurácia do `DummyClassifier` foi de 70%, isso significa que o modelo `LogisticRegression` teve um desempenho um pouco melhor."
      ]
    },
    {
      "cell_type": "code",
      "metadata": {
        "id": "cLB0jANcXapM",
        "colab": {
          "base_uri": "https://localhost:8080/"
        },
        "outputId": "bbf3dd30-b3fb-4125-bb4c-ffda937ed0af"
      },
      "source": [
        "dados_tratados['credit_risk'].value_counts(normalize=True)"
      ],
      "execution_count": 166,
      "outputs": [
        {
          "output_type": "execute_result",
          "data": {
            "text/plain": [
              "1    0.7\n",
              "0    0.3\n",
              "Name: credit_risk, dtype: float64"
            ]
          },
          "metadata": {},
          "execution_count": 166
        }
      ]
    },
    {
      "cell_type": "markdown",
      "metadata": {
        "id": "CJhtfrupN7Us"
      },
      "source": [
        "A acurácia do `DummyClassifier` esta relacionada ao valor mais frequente, a proporção dos dados são 70/30. "
      ]
    },
    {
      "cell_type": "markdown",
      "metadata": {
        "id": "vzq8Y1-YRJgh"
      },
      "source": [
        "Outra forma de quantificar o desempenho do modelo é a matriz de confusão. Os modelos de previsões tem suas margens de erro, por isso terá dados previstos como A, mas que deveriam ser B. Por isso é importante apresentar os resultados de falsos positivos , falsos negativos , verdadeiros positivos e verdadeiros negativos para entender melhor o modelo. "
      ]
    },
    {
      "cell_type": "code",
      "metadata": {
        "id": "B7t1AuKZXasZ",
        "colab": {
          "base_uri": "https://localhost:8080/"
        },
        "outputId": "28d6eb26-5904-4999-b6f3-c0d5367e837f"
      },
      "source": [
        "from sklearn.metrics import confusion_matrix\n",
        "\n",
        "pred_lr = modelo_lr.predict(x_teste)\n",
        "\n",
        "mc_lr = confusion_matrix(y_teste, pred_lr)\n",
        "mc_lr"
      ],
      "execution_count": 167,
      "outputs": [
        {
          "output_type": "execute_result",
          "data": {
            "text/plain": [
              "array([[ 31,  41],\n",
              "       [ 14, 154]])"
            ]
          },
          "metadata": {},
          "execution_count": 167
        }
      ]
    },
    {
      "cell_type": "markdown",
      "metadata": {
        "id": "4X1WiRn8Tzr7"
      },
      "source": [
        "A matriz confusão diz que o modelo previu:\n",
        "\n",
        "\n",
        "*   31 true negative (negativo verdadeiro), ou seja, 31 pessoas foram marcadas com um risco ruim de crédito e essa marcação estava correta.\n",
        "*   154 true positive (verdadeiro positivo), 154 pessoas marcadas com risco bom de crédito e que cumpriram com o acordo.\n",
        "*   41 false positive (falso positivo), 41 pessoas previstas incorretamente com um risco bom de crédito\n",
        "*   14 false negative (falso negativo), 14 pessoas previstas como risco ruim, mas que na verdade é uma pessoa de risco bom.\n",
        "\n",
        "\n",
        "\n",
        "\n",
        "\n"
      ]
    },
    {
      "cell_type": "code",
      "metadata": {
        "colab": {
          "base_uri": "https://localhost:8080/",
          "height": 615
        },
        "id": "13Vnd8ltUO8Y",
        "outputId": "b132b214-6a2c-4f31-a979-94966c271ebc"
      },
      "source": [
        "plt.figure(figsize = (10,10))\n",
        "plt.rcParams['font.size']=30\n",
        "sns.heatmap(mc_lr, annot=True, linewidths=1, fmt='.0f', cbar=False,\n",
        "            xticklabels=['Predicted_bad', 'Predicted_good'], \n",
        "            yticklabels=['Actual_bad', 'Actual_good'])"
      ],
      "execution_count": 168,
      "outputs": [
        {
          "output_type": "execute_result",
          "data": {
            "text/plain": [
              "<matplotlib.axes._subplots.AxesSubplot at 0x7f8ca82b6d90>"
            ]
          },
          "metadata": {},
          "execution_count": 168
        },
        {
          "output_type": "display_data",
          "data": {
            "image/png": "[encoded data removed]",
            "text/plain": [
              "<Figure size 720x720 with 1 Axes>"
            ]
          },
          "metadata": {}
        }
      ]
    },
    {
      "cell_type": "markdown",
      "metadata": {
        "id": "xQdSr4SUkumg"
      },
      "source": [
        "# Machine Learning - Decision Tree/ Arvore de decisão\n"
      ]
    },
    {
      "cell_type": "markdown",
      "metadata": {
        "id": "9YQus447k04x"
      },
      "source": [
        "Outro modelo que conheço e resolvi testar é a Arvore de decisão.  \n",
        "\n",
        "Repeti o mesmo passo de distribuir os dados em duas variáveis, `a` e `b`, e fiz o `train_test_split` para separar o `a_teste`, `b_teste`, `a_treino` e `b_treino`. \n",
        "\n",
        "\n",
        "Utilizei a função `DecisionTreeClassifier` da biblioteca Scikit-Learn. O único parâmetro que declarei foi o `max_depth = 3`, que fará com que a arvore de decisão possua 3 níveis de decisoes. O modelo é ajustado pelo treinamento com o `.fit()`."
      ]
    },
    {
      "cell_type": "code",
      "metadata": {
        "colab": {
          "base_uri": "https://localhost:8080/"
        },
        "id": "r88V4wS-k1J5",
        "outputId": "8b655dc1-328a-4470-d7b1-8c47ef665ffa"
      },
      "source": [
        "from sklearn.tree import DecisionTreeClassifier\n",
        "\n",
        "a = dados_tratados.drop('credit_risk', axis=1)\n",
        "b = dados_tratados['credit_risk']\n",
        "\n",
        "\n",
        "a_treino, a_teste, b_treino, b_teste = train_test_split(a, b,\n",
        "                                                        test_size = 0.2, \n",
        "                                                        stratify=b, \n",
        "                                                        random_state=42)\n",
        "\n",
        "modelo_arvore = DecisionTreeClassifier(max_depth=3)\n",
        "modelo_arvore.fit(a_treino, b_treino)"
      ],
      "execution_count": 169,
      "outputs": [
        {
          "output_type": "execute_result",
          "data": {
            "text/plain": [
              "DecisionTreeClassifier(ccp_alpha=0.0, class_weight=None, criterion='gini',\n",
              "                       max_depth=3, max_features=None, max_leaf_nodes=None,\n",
              "                       min_impurity_decrease=0.0, min_impurity_split=None,\n",
              "                       min_samples_leaf=1, min_samples_split=2,\n",
              "                       min_weight_fraction_leaf=0.0, presort='deprecated',\n",
              "                       random_state=None, splitter='best')"
            ]
          },
          "metadata": {},
          "execution_count": 169
        }
      ]
    },
    {
      "cell_type": "markdown",
      "metadata": {
        "id": "PARlwcXmWFlp"
      },
      "source": [
        "Para uma melhor visualização do modelo utilizei a biblioteca `graphviz`. Vi que dá para plotar a árvore de decisão no próprio Jupyter Notebook, mas exportando em pdf o layout ficou melhor."
      ]
    },
    {
      "cell_type": "code",
      "metadata": {
        "colab": {
          "base_uri": "https://localhost:8080/",
          "height": 35
        },
        "id": "tp9lf7iL5J9V",
        "outputId": "cf706fac-0d5a-4f93-8b4b-2db70077bf88"
      },
      "source": [
        "from sklearn import tree\n",
        "from graphviz import Source\n",
        "from sklearn.tree import export_graphviz\n",
        "\n",
        "# Exportando a arvore de decisão em pdf\n",
        "dot_data = tree.export_graphviz(modelo_arvore,\n",
        "                                feature_names = list(a_treino),\n",
        "                                class_names = ['Bad', 'Good'],\n",
        "                                out_file = None ) \n",
        "graph = Source(dot_data) \n",
        "graph.render(\"DecisionTree\") "
      ],
      "execution_count": 170,
      "outputs": [
        {
          "output_type": "execute_result",
          "data": {
            "application/vnd.google.colaboratory.intrinsic+json": {
              "type": "string"
            },
            "text/plain": [
              "'DecisionTree.pdf'"
            ]
          },
          "metadata": {},
          "execution_count": 170
        }
      ]
    },
    {
      "cell_type": "markdown",
      "metadata": {
        "id": "IEiTDbjlOqiU"
      },
      "source": [
        "Para avaliar o modelo de arvore utilizei o `cross_val_score` do subpacote `sklearn.model_selection`. Essa função irá executar a validaçao cruzada de acordo com um número de partições (folders) que será definido no parâmetro `cv`. O `print` irá retornar a performance para cada partição do teste. \n",
        "O `pred_tree` irá aplicar o modelo treinado no teste e verificar qual o desempenho nos dados `a_teste`. Depois calculei a acurácia com função `accuracy_score`, que irá comparar o resultado obtido com o `b_teste` e ver em quais previu corretamente e em quais o modelo errou. \n",
        "A acurácia desse modelo, definida em `pred_tree`, é de ~0,72 ou 72% de precisão. Menor que a acurácia obtida com a regressão logística , que foi de ~0,77"
      ]
    },
    {
      "cell_type": "code",
      "metadata": {
        "colab": {
          "base_uri": "https://localhost:8080/"
        },
        "id": "1F1C_TuO3FHo",
        "outputId": "862c8398-94f4-4c7b-c9f0-e1f329d87f32"
      },
      "source": [
        "from sklearn.model_selection import cross_val_score\n",
        "from sklearn.metrics import accuracy_score\n",
        "\n",
        "\n",
        "print(cross_val_score(modelo_arvore, a_teste, b_teste, cv = 10))\n",
        "pred_dt = modelo_arvore.predict(a_teste)\n",
        "print('Acuracia de: ', accuracy_score(pred_dt, b_teste)*100)"
      ],
      "execution_count": 171,
      "outputs": [
        {
          "output_type": "stream",
          "name": "stdout",
          "text": [
            "[0.58333333 0.54166667 0.66666667 0.75       0.79166667 0.5\n",
            " 0.79166667 0.70833333 0.66666667 0.70833333]\n",
            "Acuracia de:  71.66666666666667\n"
          ]
        }
      ]
    },
    {
      "cell_type": "markdown",
      "metadata": {
        "id": "6asVQmwUVMW9"
      },
      "source": [
        "A matriz confusão do modelo de árvore de decisão diz que o modelo previu:\n",
        "\n",
        "\n",
        "*   7 true negative (negativo verdadeiro)\n",
        "*   165 true positive (verdadeiro positivo)\n",
        "*   65 false positive (falso positivo)\n",
        "*   3 false negative (falso negativo)\n"
      ]
    },
    {
      "cell_type": "code",
      "metadata": {
        "colab": {
          "base_uri": "https://localhost:8080/"
        },
        "id": "FFuj7kXKUtjB",
        "outputId": "1b565c8a-e8fc-4c65-a41a-686e35a3dd2d"
      },
      "source": [
        "mc_dt = confusion_matrix(b_teste, pred_dt)\n",
        "mc_dt"
      ],
      "execution_count": 172,
      "outputs": [
        {
          "output_type": "execute_result",
          "data": {
            "text/plain": [
              "array([[  7,  65],\n",
              "       [  3, 165]])"
            ]
          },
          "metadata": {},
          "execution_count": 172
        }
      ]
    },
    {
      "cell_type": "code",
      "metadata": {
        "colab": {
          "base_uri": "https://localhost:8080/",
          "height": 615
        },
        "id": "i_GjKUpTVZki",
        "outputId": "df876d2e-2b11-40f3-c6e8-21d378e28ce3"
      },
      "source": [
        "plt.figure(figsize = (10,10))\n",
        "plt.rcParams['font.size']=30\n",
        "sns.heatmap(mc_dt, annot=True,linewidths=1, fmt='.0f',cbar=False,\n",
        "            xticklabels=['Predicted_bad', 'Predicted_good'], yticklabels=['Actual_bad', 'Actual_good'])"
      ],
      "execution_count": 173,
      "outputs": [
        {
          "output_type": "execute_result",
          "data": {
            "text/plain": [
              "<matplotlib.axes._subplots.AxesSubplot at 0x7f8ca7a78ed0>"
            ]
          },
          "metadata": {},
          "execution_count": 173
        },
        {
          "output_type": "display_data",
          "data": {
            "image/png": "[encoded data removed]",
            "text/plain": [
              "<Figure size 720x720 with 1 Axes>"
            ]
          },
          "metadata": {}
        }
      ]
    },
    {
      "cell_type": "markdown",
      "metadata": {
        "id": "ASzjcrisYHog"
      },
      "source": [
        "A árvore de decisão 'escolhe', por assim dizer, pesos para os atributos dos dados. Esses pesos são possíveis de verificar utilizando a função `feature_importances_`. Quantos maior for o `max_depth` definido, ou seja mais níveis a árvore conter, melhor os pesos serão destribuidos entre os atributos. Porém, quanto mais níveis a árvore contêm, mais lento e menos otimizado é o modelo. "
      ]
    },
    {
      "cell_type": "code",
      "metadata": {
        "colab": {
          "base_uri": "https://localhost:8080/"
        },
        "id": "CUvEboBa6HeP",
        "outputId": "406de197-7106-44d4-fd14-2d1cf9b68810"
      },
      "source": [
        "modelo_arvore.feature_importances_"
      ],
      "execution_count": 174,
      "outputs": [
        {
          "output_type": "execute_result",
          "data": {
            "text/plain": [
              "array([0.60769429, 0.        , 0.02897005, 0.1564727 , 0.02159303,\n",
              "       0.        , 0.        , 0.        , 0.04732278, 0.        ,\n",
              "       0.        , 0.        , 0.        , 0.13794715])"
            ]
          },
          "metadata": {},
          "execution_count": 174
        }
      ]
    },
    {
      "cell_type": "markdown",
      "metadata": {
        "id": "NqVkaHTxZFmD"
      },
      "source": [
        "Pesos dados para os atributos\n",
        "\n",
        "*   account_status = 0.60769429\n",
        "*   credit_purpose = 0.02897005\n",
        "*   savings = 0.1564727 \n",
        "*   employment_duration = 0.02159303\n",
        "*   other_installment_plans = 0.04732278\n",
        "*   credit_duration_classe = 0.13794715\n",
        "       "
      ]
    },
    {
      "cell_type": "markdown",
      "metadata": {
        "id": "wKh8n60F2bmb"
      },
      "source": [
        "\n",
        "# Machine learning - Random forest/Floresta Aleatória "
      ]
    },
    {
      "cell_type": "markdown",
      "metadata": {
        "id": "1ZzBxnXfbPcR"
      },
      "source": [
        "O modelo Random Forest ou foresta aleatória funciona como se eu aplicasse o modelo de árvore de decisão várias vezes de forma simultânea. A previsão selecionada será aquela que for compatível com o maior número de árvores rodados. Dessa forma, o modelo Random Forest melhora a acurácia do modelo de árvore de decisão. \n",
        "A parte randomica do modelo garante que, ao invés de procurar pelos melhores atributos para fazer a partição dos nós, ele busca o melhor atributo em um subconjunto aleatório de atributos. Gerando uma maior diversidade de dados, o que também ajuda a melhorar a acurácia do modelo. \n",
        "\n",
        "A acurácia obtida nesse modelo foi entre ~0.76 a ~0.80, maior que os ~0.72 da arvore de decisão e próximo aos ~0.77 do modelo de regressão logística. A acurácia desse modelo é variável, pois leva em conta o `cv`, que funciona de forma similar ao `cross_val_score`, e cada vez que executo essa função ela compara um conjunto de dados diferente."
      ]
    },
    {
      "cell_type": "code",
      "metadata": {
        "colab": {
          "base_uri": "https://localhost:8080/"
        },
        "id": "7kXwxxH_3FOy",
        "outputId": "6aca63f7-1115-4cad-c21b-69597df3ad2a"
      },
      "source": [
        "from sklearn.ensemble import RandomForestClassifier\n",
        "\n",
        "modelo_rf = RandomForestClassifier()\n",
        "modelo_rf.fit(a_treino, b_treino)\n",
        "\n",
        "print(cross_val_score(modelo_rf, a_teste, b_teste, cv=10))\n",
        "\n",
        "pred_rf = modelo_rf.predict(a_teste)\n",
        "print('Acuracia de: ', accuracy_score(pred_rf, b_teste)*100)"
      ],
      "execution_count": 175,
      "outputs": [
        {
          "output_type": "stream",
          "name": "stdout",
          "text": [
            "[0.70833333 0.70833333 0.83333333 0.79166667 0.95833333 0.66666667\n",
            " 0.79166667 0.66666667 0.79166667 0.75      ]\n",
            "Acuracia de:  78.75\n"
          ]
        }
      ]
    },
    {
      "cell_type": "markdown",
      "metadata": {
        "id": "VnBxAwaIhiWj"
      },
      "source": [
        "A matriz confusão mostra que o modelo previu: \n",
        "*   41 true negative (negativo verdadeiro)\n",
        "*   149 true positive (verdadeiro positivo)\n",
        "*   31 false positive (falso positivo)\n",
        "*   19 false negative (falso negativo)"
      ]
    },
    {
      "cell_type": "code",
      "metadata": {
        "colab": {
          "base_uri": "https://localhost:8080/"
        },
        "id": "wH9ClWpHg_GT",
        "outputId": "e38fc83a-63de-4593-a4e6-0c18281cc485"
      },
      "source": [
        "mc_rf = confusion_matrix(b_teste, pred)\n",
        "mc_rf"
      ],
      "execution_count": 176,
      "outputs": [
        {
          "output_type": "execute_result",
          "data": {
            "text/plain": [
              "array([[ 41,  31],\n",
              "       [ 19, 149]])"
            ]
          },
          "metadata": {},
          "execution_count": 176
        }
      ]
    },
    {
      "cell_type": "markdown",
      "metadata": {
        "id": "w9N-oqGOy5w1"
      },
      "source": [
        "# Conclusão"
      ]
    },
    {
      "cell_type": "markdown",
      "metadata": {
        "id": "nHWeugnhzE9m"
      },
      "source": [
        "É possível observar, no gráfico abaixo, o comparativo de desempenho entre os três modelos por meio dos valores obtidos na matriz confusão."
      ]
    },
    {
      "cell_type": "code",
      "metadata": {
        "colab": {
          "base_uri": "https://localhost:8080/",
          "height": 294
        },
        "id": "3Uym5T4XgyTx",
        "outputId": "91b9a0f1-3352-4a9b-8102-0eff53724187"
      },
      "source": [
        "r = []\n",
        "for mc in [mc_lr, mc_rf, mc_dt]:\n",
        "  r.append([mc[0][0], mc[0][1], mc[1][0], mc[1][1]])\n",
        "r = pd.DataFrame(r, \n",
        "                 columns=['TN', 'FP', 'FN','TP'], \n",
        "                 index=['Arvore de decisão', 'Random Forest','Reg. Logistica'])\n",
        "\n",
        "r.T.plot.bar()"
      ],
      "execution_count": 178,
      "outputs": [
        {
          "output_type": "execute_result",
          "data": {
            "text/plain": [
              "<matplotlib.axes._subplots.AxesSubplot at 0x7f8ca7a91790>"
            ]
          },
          "metadata": {},
          "execution_count": 178
        },
        {
          "output_type": "display_data",
          "data": {
            "image/png": "[encoded data removed]",
            "text/plain": [
              "<Figure size 432x288 with 1 Axes>"
            ]
          },
          "metadata": {}
        }
      ]
    },
    {
      "cell_type": "markdown",
      "metadata": {
        "id": "_F1UJs8wh8v1"
      },
      "source": [
        "Com base nisso, eu escolheria o modelo de floresta aleatória para essa base de dados, pois foi o modelo que previu menos falso positivos, ou seja, o número menor de pessoas que foram previstas como um risco bom, mas na verdade tinham um risco ruim. Esse modelo previu 31, o modelo de regressão logística previu 41 e do árvore de decisão foi 65. E esse é um fator importante para o fornecimento de crédito/dinheiro, onde o banco pode ter prejuizo se o modelo prever muitos falsos positivos. "
      ]
    },
    {
      "cell_type": "markdown",
      "metadata": {
        "id": "BlF4asD0Dukq"
      },
      "source": [
        
      ]
    },
    {
      "cell_type": "code",
      "metadata": {
        "id": "GgyJxzMz0CFK"
      },
      "source": [
        ""
      ],
      "execution_count": null,
      "outputs": []
    }
  ]
}
